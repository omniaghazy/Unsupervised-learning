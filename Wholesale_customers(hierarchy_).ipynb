{
  "nbformat": 4,
  "nbformat_minor": 0,
  "metadata": {
    "colab": {
      "provenance": [],
      "authorship_tag": "ABX9TyOBvEkNU5NsukOWp3J+WRON",
      "include_colab_link": true
    },
    "kernelspec": {
      "name": "python3",
      "display_name": "Python 3"
    },
    "language_info": {
      "name": "python"
    }
  },
  "cells": [
    {
      "cell_type": "markdown",
      "metadata": {
        "id": "view-in-github",
        "colab_type": "text"
      },
      "source": [
        "<a href=\"https://colab.research.google.com/github/omniaghazy/Unsupervised-learning/blob/main/Wholesale_customers(hierarchy_).ipynb\" target=\"_parent\"><img src=\"https://colab.research.google.com/assets/colab-badge.svg\" alt=\"Open In Colab\"/></a>"
      ]
    },
    {
      "cell_type": "code",
      "execution_count": 1,
      "metadata": {
        "id": "qhKaCN4f6f2G"
      },
      "outputs": [],
      "source": [
        "import numpy as np\n",
        "import pandas as pd\n",
        "import seaborn as sns\n",
        "import matplotlib.pyplot as plt\n",
        "\n",
        "\n",
        "data = pd.read_csv('/content/Wholesale customers data.csv' ,usecols=['Channel', 'Region', 'Fresh', 'Milk', 'Grocery', 'Frozen',\n",
        "       'Detergents_Paper', 'Delicassen'])\n",
        "\n",
        "\n"
      ]
    },
    {
      "cell_type": "code",
      "source": [
        "data = data.drop(columns=[\"Channel\" ,\"Region\"])"
      ],
      "metadata": {
        "id": "8TR5D5lq7Lp2"
      },
      "execution_count": 2,
      "outputs": []
    },
    {
      "cell_type": "code",
      "source": [
        "features = np.log(data)\n",
        "from sklearn.preprocessing import StandardScaler\n",
        "scaler = StandardScaler()\n",
        "features_scaled = scaler.fit_transform(features )"
      ],
      "metadata": {
        "id": "ximI7NV07VUL"
      },
      "execution_count": 3,
      "outputs": []
    },
    {
      "cell_type": "code",
      "source": [
        "from scipy.cluster.hierarchy import dendrogram, linkage\n",
        "import matplotlib.pyplot as plt\n",
        "\n",
        "Z = linkage(features_scaled, method='ward')\n",
        "\n",
        "plt.figure(figsize=(15, 7))\n",
        "plt.title('Hierarchical Clustering Dendrogram for Wholesale Customers')\n",
        "plt.xlabel('Customer Index')\n",
        "plt.ylabel('Distance')\n",
        "dendrogram(\n",
        "    Z,\n",
        "    truncate_mode='lastp',  # show only the last p merged clusters\n",
        "    p=30,  # show the last 30 merged clusters\n",
        "    show_leaf_counts=False,\n",
        "    leaf_rotation=90.,\n",
        "    leaf_font_size=12.,\n",
        ")\n",
        "plt.show()"
      ],
      "metadata": {
        "colab": {
          "base_uri": "https://localhost:8080/",
          "height": 598
        },
        "id": "v4a0-cYK7jDZ",
        "outputId": "805afb83-103c-47fd-e79a-3027adce12c3"
      },
      "execution_count": 4,
      "outputs": [
        {
          "output_type": "display_data",
          "data": {
            "text/plain": [
              "<Figure size 1500x700 with 1 Axes>"
            ],
            "image/png": "[encoded data removed]"
          },
          "metadata": {}
        }
      ]
    },
    {
      "cell_type": "code",
      "source": [
        "from sklearn.cluster import AgglomerativeClustering\n",
        "\n",
        "# The number of clusters to form. We chose 3 based on the dendrogram\n",
        "# عدد المجموعات اللي هنكونها. اخترنا 3 بناءً على الـ dendrogram\n",
        "model = AgglomerativeClustering(n_clusters=3, metric='euclidean', linkage='ward')\n",
        "\n",
        "# Fit the model and get the cluster labels\n",
        "# نطبق الموديل ونجيب رقم المجموعة لكل نقطة بيانات\n",
        "y_agglomerative = model.fit_predict(features_scaled)\n",
        "\n",
        "# Let's see the cluster labels\n",
        "print(y_agglomerative)"
      ],
      "metadata": {
        "colab": {
          "base_uri": "https://localhost:8080/"
        },
        "id": "X2covjdn7xTd",
        "outputId": "5f21617a-3352-472f-be9f-6f5092905781"
      },
      "execution_count": 13,
      "outputs": [
        {
          "output_type": "stream",
          "name": "stdout",
          "text": [
            "[1 2 2 0 2 2 0 2 0 2 2 0 1 2 1 0 1 0 2 0 2 0 2 2 2 1 0 0 2 0 2 0 0 2 0 1 2\n",
            " 2 1 0 2 2 1 1 1 2 2 2 2 2 0 1 0 1 0 0 2 1 0 1 1 2 2 2 0 1 1 2 2 0 0 2 0 2\n",
            " 2 0 0 2 0 0 0 1 2 0 1 2 2 2 0 2 0 0 2 0 1 1 1 0 0 0 2 1 1 2 0 0 1 2 1 1 0\n",
            " 2 0 0 0 0 0 0 0 0 0 0 0 1 0 2 0 2 1 0 0 0 0 0 0 0 2 1 0 0 2 0 1 0 0 1 0 0\n",
            " 0 0 0 0 0 0 0 1 1 0 1 1 1 0 0 2 1 2 2 0 0 0 1 1 1 1 0 1 2 0 0 2 2 2 1 2 0\n",
            " 0 0 1 1 1 0 0 0 1 0 2 2 1 0 0 2 2 2 0 0 1 0 1 1 2 0 2 0 1 1 1 1 0 1 0 0 1\n",
            " 0 0 0 0 2 0 0 0 2 1 0 1 2 1 0 0 0 2 2 0 0 2 2 1 0 0 0 0 0 2 0 0 2 0 0 0 2\n",
            " 2 0 0 0 0 1 2 1 0 2 0 0 0 0 0 0 0 2 0 0 2 0 2 2 0 2 0 0 0 0 0 0 0 0 2 0 0\n",
            " 0 1 2 0 2 2 1 1 1 1 2 0 0 1 0 0 1 0 0 1 0 0 0 2 0 0 0 0 0 2 0 0 0 0 0 2 0\n",
            " 1 0 2 0 0 1 0 1 1 1 1 0 1 2 2 0 2 0 1 0 1 2 0 0 1 2 0 0 0 0 0 0 2 0 0 0 0\n",
            " 2 0 0 2 0 0 2 0 0 1 0 0 2 0 2 0 0 0 0 0 0 0 0 2 0 0 2 0 0 0 0 0 0 0 0 0 2\n",
            " 2 1 2 0 0 1 2 0 2 2 1 1 0 1 2 0 0 1 0 2 2 1 0 0 2 0 0 0 2 0 2 0 0]\n"
          ]
        }
      ]
    },
    {
      "cell_type": "code",
      "source": [
        "# Create a DataFrame from the original data\n",
        "clusters_data = data.copy()\n",
        "\n",
        "# Add the cluster labels from Hierarchical Clustering to the DataFrame\n",
        "# نضيف أرقام المجموعات الجديدة إلى البيانات الأصلية\n",
        "clusters_data['Cluster'] = y_agglomerative\n",
        "\n",
        "# Calculate the mean for each cluster to get the centroids\n",
        "# الآن نحسب المتوسط لكل مجموعة\n",
        "agglomerative_centroids = clusters_data.groupby('Cluster').mean()\n",
        "\n",
        "# Let's see the results!\n",
        "# لنرى النتائج!\n",
        "print(agglomerative_centroids)"
      ],
      "metadata": {
        "colab": {
          "base_uri": "https://localhost:8080/"
        },
        "id": "koTZwakF8qq3",
        "outputId": "ce473a17-de83-4d36-d58d-e98e1a5738ed"
      },
      "execution_count": 14,
      "outputs": [
        {
          "output_type": "stream",
          "name": "stdout",
          "text": [
            "                Fresh          Milk       Grocery       Frozen  \\\n",
            "Cluster                                                          \n",
            "0        11749.311966   2189.534188   2812.175214  2907.128205   \n",
            "1         4221.277778   7742.166667  13606.055556   993.966667   \n",
            "2        18542.043103  11562.163793  13930.758621  5016.594828   \n",
            "\n",
            "         Detergents_Paper   Delicassen  \n",
            "Cluster                                 \n",
            "0              509.346154   911.350427  \n",
            "1             5950.922222  1051.900000  \n",
            "2             5285.232759  3129.448276  \n"
          ]
        }
      ]
    },
    {
      "cell_type": "code",
      "source": [
        "# First, let's create a dictionary to map the cluster ID to its descriptive name\n",
        "cluster_descriptions = {\n",
        "    0: \"Regular / Average Customers\",\n",
        "    1: \"Small Grocery Stores\",\n",
        "    2: \"Large Retailers / Bulk Buyers\",\n",
        "}\n",
        "\n",
        "# Now, we add a new column to our centroids table with the descriptions\n",
        "agglomerative_centroids['Description'] = agglomerative_centroids.index.map(cluster_descriptions)\n",
        "\n",
        "# And finally, we sort the clusters and display the final result\n",
        "final_agglomerative_clusters = agglomerative_centroids.sort_values(by='Fresh', ascending=False)\n",
        "print(\"Final Agglomerative Clusters Analysis:\")\n",
        "print(final_agglomerative_clusters)"
      ],
      "metadata": {
        "colab": {
          "base_uri": "https://localhost:8080/"
        },
        "id": "rQ8-wA6U8-GB",
        "outputId": "776ebf4b-daf5-4410-8085-0a7ccbbd88e3"
      },
      "execution_count": 15,
      "outputs": [
        {
          "output_type": "stream",
          "name": "stdout",
          "text": [
            "Final Agglomerative Clusters Analysis:\n",
            "                Fresh          Milk       Grocery       Frozen  \\\n",
            "Cluster                                                          \n",
            "2        18542.043103  11562.163793  13930.758621  5016.594828   \n",
            "0        11749.311966   2189.534188   2812.175214  2907.128205   \n",
            "1         4221.277778   7742.166667  13606.055556   993.966667   \n",
            "\n",
            "         Detergents_Paper   Delicassen                    Description  \n",
            "Cluster                                                                \n",
            "2             5285.232759  3129.448276  Large Retailers / Bulk Buyers  \n",
            "0              509.346154   911.350427    Regular / Average Customers  \n",
            "1             5950.922222  1051.900000           Small Grocery Stores  \n"
          ]
        }
      ]
    },
    {
      "cell_type": "code",
      "source": [
        "from sklearn.metrics import silhouette_score\n",
        "\n",
        "score = silhouette_score(features_scaled, y_agglomerative)\n",
        "print(\"Silhouette Score:\", score)"
      ],
      "metadata": {
        "colab": {
          "base_uri": "https://localhost:8080/"
        },
        "id": "vfysnSZq9skj",
        "outputId": "0e57f46c-0939-41cc-dc76-a2da3ad3b686"
      },
      "execution_count": 16,
      "outputs": [
        {
          "output_type": "stream",
          "name": "stdout",
          "text": [
            "Silhouette Score: 0.2349989044190331\n"
          ]
        }
      ]
    },
    {
      "cell_type": "code",
      "source": [],
      "metadata": {
        "id": "mnmrU233-CIW"
      },
      "execution_count": null,
      "outputs": []
    }
  ]
}